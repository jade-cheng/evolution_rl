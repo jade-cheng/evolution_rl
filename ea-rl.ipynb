{
 "cells": [
  {
   "cell_type": "markdown",
   "metadata": {},
   "source": [
    "# EA applied to RL through OpenAI gym"
   ]
  },
  {
   "cell_type": "code",
   "execution_count": null,
   "metadata": {},
   "outputs": [],
   "source": [
    "import numpy\n",
    "import sys\n",
    "import os\n",
    "from cStringIO import StringIO\n",
    "import matplotlib.pyplot as plt\n",
    "\n",
    "import gym\n",
    "\n",
    "sys.path.append(os.path.abspath('./evolutionary-optimization/src'))\n",
    "import OptimizerFactory"
   ]
  },
  {
   "attachments": {},
   "cell_type": "markdown",
   "metadata": {},
   "source": [
    "## Cart Pole\n",
    "\n",
    "Four variable environment + Discrete binary decision [ref](https://github.com/openai/gym/wiki/CartPole-v0)\n",
    "\n",
    "![cartpole.png](cartpole.png)"
   ]
  },
  {
   "cell_type": "code",
   "execution_count": 2,
   "metadata": {},
   "outputs": [
    {
     "name": "stdout",
     "output_type": "stream",
     "text": [
      "Discrete(2)\n",
      "Box(4,)\n",
      "[4.8000002e+00 3.4028235e+38 4.1887903e-01 3.4028235e+38]\n",
      "[-4.8000002e+00 -3.4028235e+38 -4.1887903e-01 -3.4028235e+38]\n"
     ]
    }
   ],
   "source": [
    "env = gym.make('CartPole-v0')\n",
    "print(env.action_space)\n",
    "print(env.observation_space)\n",
    "print(env.observation_space.high)\n",
    "print(env.observation_space.low)\n",
    "\n",
    "num_params = len(env.observation_space.high)\n",
    "population_size = 5\n",
    "num_iterations = 3"
   ]
  },
  {
   "cell_type": "markdown",
   "metadata": {},
   "source": [
    "### Random policy"
   ]
  },
  {
   "cell_type": "code",
   "execution_count": 1,
   "metadata": {},
   "outputs": [],
   "source": [
    "def random_run(render=True, trials=20):\n",
    "    bestreward = -float('inf')\n",
    "    for i_trial in range(trials):\n",
    "        observation = env.reset()\n",
    "        totalreward = 0\n",
    "        for t in xrange(sys.maxint):\n",
    "\n",
    "            action = env.action_space.sample()\n",
    "            observation, reward, done, info = env.step(action)\n",
    "\n",
    "            if render:\n",
    "                env.render()\n",
    "\n",
    "            totalreward += reward\n",
    "            if done:\n",
    "                print(\"Trial ended at {} time steps\".format(t + 1))\n",
    "                break\n",
    "        if totalreward > bestreward:\n",
    "            bestreward = totalreward\n",
    "    return bestreward"
   ]
  },
  {
   "cell_type": "code",
   "execution_count": 4,
   "metadata": {},
   "outputs": [
    {
     "name": "stdout",
     "output_type": "stream",
     "text": [
      "Trial ended at 14 time steps\n"
     ]
    },
    {
     "data": {
      "text/plain": [
       "14.0"
      ]
     },
     "execution_count": 4,
     "metadata": {},
     "output_type": "execute_result"
    }
   ],
   "source": [
    "random_run(render=False, trials=1)"
   ]
  },
  {
   "cell_type": "code",
   "execution_count": 5,
   "metadata": {},
   "outputs": [
    {
     "name": "stdout",
     "output_type": "stream",
     "text": [
      "Trial ended at 10 time steps\n",
      "Trial ended at 17 time steps\n",
      "Trial ended at 13 time steps\n",
      "Trial ended at 44 time steps\n",
      "Trial ended at 23 time steps\n",
      "Trial ended at 9 time steps\n",
      "Trial ended at 27 time steps\n",
      "Trial ended at 42 time steps\n",
      "Trial ended at 17 time steps\n",
      "Trial ended at 75 time steps\n",
      "Trial ended at 31 time steps\n",
      "Trial ended at 27 time steps\n",
      "Trial ended at 15 time steps\n",
      "Trial ended at 17 time steps\n",
      "Trial ended at 22 time steps\n"
     ]
    },
    {
     "data": {
      "text/plain": [
       "75.0"
      ]
     },
     "execution_count": 5,
     "metadata": {},
     "output_type": "execute_result"
    }
   ],
   "source": [
    "random_run(render=False, trials=population_size * num_iterations)"
   ]
  },
  {
   "cell_type": "markdown",
   "metadata": {},
   "source": [
    "### EA policies"
   ]
  },
  {
   "cell_type": "code",
   "execution_count": 6,
   "metadata": {},
   "outputs": [],
   "source": [
    "def run_trial(parameters):\n",
    "    observation = env.reset()\n",
    "    totalreward = 0\n",
    "    while True:\n",
    "        \n",
    "        # transformation from optimization solution (rl agent) to action\n",
    "        action = 0 if numpy.matmul(parameters, observation) < 0 else 1\n",
    "\n",
    "        observation, reward, done, info = env.step(action)\n",
    "        totalreward += reward\n",
    "        if done:\n",
    "            break\n",
    "    return totalreward\n",
    "\n",
    "def objective_function(parameters):\n",
    "    assert len(parameters) == num_params\n",
    "    return run_trial(parameters)\n",
    "\n",
    "def ea(option):\n",
    "    assert option in ['pso', 'ga', 'dea']\n",
    "    optimizer = OptimizerFactory.create(\n",
    "        option=option,\n",
    "        param_count=num_params,\n",
    "    )\n",
    "    optimizer.optimizer.population_size = population_size\n",
    "    optimizer.optimizer.max_iterations = num_iterations\n",
    "    best_params = optimizer.maximize(objective_function)\n",
    "    best_fitness = objective_function(best_params)\n",
    "    return best_fitness, best_params\n",
    "\n",
    "def sp(option):\n",
    "    assert option in ['nm', 'bfgs', 'pow', 'bh', 'sdea']\n",
    "    optimizer = OptimizerFactory.create(\n",
    "        option=option,\n",
    "        param_count=num_params,\n",
    "    )\n",
    "    best_params = optimizer.maximize(objective_function)\n",
    "    best_fitness = objective_function(best_params)\n",
    "    return best_fitness, best_params\n"
   ]
  },
  {
   "cell_type": "code",
   "execution_count": 7,
   "metadata": {},
   "outputs": [
    {
     "name": "stdout",
     "output_type": "stream",
     "text": [
      "#\n",
      "# 2018-10-30 22:58:37.089968\n",
      "#\n",
      "# algorithm            = _PSOptimizer\n",
      "# timeout              = None\n",
      "# max_iterations       = 3\n",
      "# population_size      = 5\n",
      "# max_initial_velocity = 0.02\n",
      "# omega                = 0.9\n",
      "# phi_particle         = 0.3\n",
      "# phi_swarm            = 0.1\n",
      "#\n",
      "# PARTICLES FOR ITERATION 1\n",
      "# swarm_fitness           = 200.0\n",
      "# best_average_fitness    = 81.8\n",
      "# best_minimum_fitness    = 9.0\n",
      "# best_maximum_fitness    = 200.0\n",
      "# current_average_fitness = 81.8\n",
      "# current_minimum_fitness = 9.0\n",
      "# current_maximum_fitness = 200.0\n",
      "#\n",
      "# gen idv              fitness               param0               param1               param2               param3         best_fitness          best-param0          best-param1          best-param2          best-param3\n",
      "    1   0         200.00000000           0.12747953           0.16417520           0.25067390           0.76638433         200.00000000           0.12747953           0.16417520           0.25067390           0.76638433\n",
      "    1   1         132.00000000           0.64439690           0.83584825           0.39241904           0.97555171         132.00000000           0.64439690           0.83584825           0.39241904           0.97555171\n",
      "    1   2          58.00000000           0.95721540           0.22375954           0.31606243           0.51936697          58.00000000           0.95721540           0.22375954           0.31606243           0.51936697\n",
      "    1   3          10.00000000           0.29142214           0.40216809           0.04272159           0.11025293          10.00000000           0.29142214           0.40216809           0.04272159           0.11025293\n",
      "    1   4           9.00000000           0.19971794           0.52121478           0.57228974           0.00429025           9.00000000           0.19971794           0.52121478           0.57228974           0.00429025\n",
      "#\n",
      "# PARTICLES FOR ITERATION 2\n",
      "# swarm_fitness           = 200.0\n",
      "# best_average_fitness    = 83.8\n",
      "# best_minimum_fitness    = 10.0\n",
      "# best_maximum_fitness    = 200.0\n",
      "# current_average_fitness = 83.6\n",
      "# current_minimum_fitness = 9.0\n",
      "# current_maximum_fitness = 200.0\n",
      "#\n",
      "# gen idv              fitness               param0               param1               param2               param3         best_fitness          best-param0          best-param1          best-param2          best-param3\n",
      "    2   0         200.00000000           0.13182362           0.14830325           0.25498446           0.75070678         200.00000000           0.12747953           0.16417520           0.25067390           0.76638433\n",
      "    2   1         134.00000000           0.61577235           0.78454819           0.37738211           0.96662478         134.00000000           0.61577235           0.78454819           0.37738211           0.96662478\n",
      "    2   2          64.00000000           0.90404327           0.23150486           0.30480505           0.54935251          64.00000000           0.90404327           0.23150486           0.30480505           0.54935251\n",
      "    2   3          11.00000000           0.18547067           0.49555016           0.53449273           0.05888463          11.00000000           0.18547067           0.49555016           0.53449273           0.05888463\n",
      "    2   4           9.00000000           0.26499716           0.38832493           0.06261374           0.15136540          10.00000000           0.29142214           0.40216809           0.04272159           0.11025293\n",
      "#\n",
      "# PARTICLES FOR ITERATION 3\n",
      "# swarm_fitness           = 200.0\n",
      "# best_average_fitness    = 85.4\n",
      "# best_minimum_fitness    = 10.0\n",
      "# best_maximum_fitness    = 200.0\n",
      "# current_average_fitness = 83.6\n",
      "# current_minimum_fitness = 9.0\n",
      "# current_maximum_fitness = 200.0\n",
      "#\n",
      "# gen idv              fitness               param0               param1               param2               param3         best_fitness          best-param0          best-param1          best-param2          best-param3\n",
      "    3   0         200.00000000           0.13508984           0.13636952           0.25822546           0.73891921         200.00000000           0.12747953           0.16417520           0.25067390           0.76638433\n",
      "    3   1         142.00000000           0.54592264           0.68236509           0.35240848           0.94051096         142.00000000           0.54592264           0.68236509           0.35240848           0.94051096\n",
      "    3   2          58.00000000           0.82042861           0.23537520           0.29218074           0.58633353          64.00000000           0.90404327           0.23150486           0.30480505           0.54935251\n",
      "    3   3           9.00000000           0.16999541           0.45729374           0.48749254           0.14038314          11.00000000           0.18547067           0.49555016           0.53449273           0.05888463\n",
      "    3   4           9.00000000           0.23652328           0.36739276           0.08739168           0.21152713          10.00000000           0.29142214           0.40216809           0.04272159           0.11025293\n",
      "#\n",
      "# exit_condition       = ITERATIONS\n",
      "# iterations           = 3\n",
      "# execution_time       = 0:00:00.022949\n"
     ]
    },
    {
     "data": {
      "text/plain": [
       "(200.0, array([0.12747953, 0.1641752 , 0.2506739 , 0.76638433]))"
      ]
     },
     "execution_count": 7,
     "metadata": {},
     "output_type": "execute_result"
    }
   ],
   "source": [
    "ea('pso')"
   ]
  },
  {
   "cell_type": "markdown",
   "metadata": {},
   "source": [
    "### Comparison"
   ]
  },
  {
   "cell_type": "code",
   "execution_count": 8,
   "metadata": {},
   "outputs": [],
   "source": [
    "def comp(options=['rand', 'nm', 'bfgs', 'pow', 'bh', 'sdea', 'pso', 'ga', 'dea']):\n",
    "\n",
    "    # obsorb standard output, mystdout.getvalue()\n",
    "    old_stdout = sys.stdout\n",
    "    sys.stdout = mystdout = StringIO() \n",
    "    \n",
    "    to_plot = [[] for _ in options]\n",
    "    repeats = 3\n",
    "    \n",
    "    params = []\n",
    "    scores = []\n",
    "    for i, option in enumerate(options):\n",
    "        for _ in range(repeats):\n",
    "            if option == 'rand':\n",
    "                to_plot[i].append(random_run(render=False))\n",
    "            else:\n",
    "                if option in ['nm', 'bfgs', 'pow', 'bh', 'sdea']:\n",
    "                    score, param = sp(option)\n",
    "                elif option in ['pso', 'ga', 'dea']:\n",
    "                    score, param = ea(option)\n",
    "                else:\n",
    "                    assert False\n",
    "                scores.append(score)\n",
    "                params.append(param)\n",
    "                to_plot[i].append(score)\n",
    "        \n",
    "    sys.stdout = old_stdout\n",
    "    \n",
    "    # print the solution, RL policy\n",
    "    print(params[scores.index(max(scores))])\n",
    "\n",
    "    plt.boxplot(to_plot)\n",
    "    plt.ylabel('objective for maximization')\n",
    "    plt.xticks(range(1, len(options) + 1), options)"
   ]
  },
  {
   "cell_type": "code",
   "execution_count": 9,
   "metadata": {},
   "outputs": [
    {
     "name": "stderr",
     "output_type": "stream",
     "text": [
      "/Users/jade/Documents/Strong/side-projects/ea-rl/venv/lib/python2.7/site-packages/scipy/optimize/optimize.py:1013: RuntimeWarning: divide by zero encountered in double_scalars\n",
      "  rhok = 1.0 / (numpy.dot(yk, sk))\n",
      "/Users/jade/Documents/Strong/side-projects/ea-rl/venv/lib/python2.7/site-packages/scipy/optimize/_differentialevolution.py:603: RuntimeWarning: divide by zero encountered in double_scalars\n",
      "  convergence=self.tol / convergence) is True):\n"
     ]
    },
    {
     "name": "stdout",
     "output_type": "stream",
     "text": [
      "[-264580.7512858   612773.93374941  122012.43271125  590550.77303408]\n"
     ]
    },
    {
     "data": {
      "image/png": "[encoded data removed]",
      "text/plain": [
       "<Figure size 432x288 with 1 Axes>"
      ]
     },
     "metadata": {
      "needs_background": "light"
     },
     "output_type": "display_data"
    }
   ],
   "source": [
    "comp()"
   ]
  },
  {
   "cell_type": "markdown",
   "metadata": {},
   "source": [
    "Note: Scipy methods, `nm`, `bfgs`, `pow`, `bh`, and `sdea`, are not bounded by the number of evaluations (15 in this example).  The rest of the comparison is fair, e.g. `rand` vs. EA-based methods `pso`, `ga`, and `dea`."
   ]
  },
  {
   "cell_type": "code",
   "execution_count": 10,
   "metadata": {},
   "outputs": [
    {
     "name": "stdout",
     "output_type": "stream",
     "text": [
      "[0.25285201 0.50965226 0.84808156 0.91405624]\n"
     ]
    },
    {
     "data": {
      "image/png": "[encoded data removed]",
      "text/plain": [
       "<Figure size 432x288 with 1 Axes>"
      ]
     },
     "metadata": {
      "needs_background": "light"
     },
     "output_type": "display_data"
    }
   ],
   "source": [
    "comp(['rand', 'pso', 'ga', 'dea'])"
   ]
  },
  {
   "cell_type": "markdown",
   "metadata": {},
   "source": [
    "## Pendulum\n",
    "\n",
    "Three variable environment + One variable decision [ref](https://github.com/openai/gym/wiki/Pendulum-v0)\n",
    "\n",
    "![pendulum.png](pendulum.png)"
   ]
  },
  {
   "cell_type": "code",
   "execution_count": 11,
   "metadata": {},
   "outputs": [
    {
     "name": "stdout",
     "output_type": "stream",
     "text": [
      "Box(1,)\n",
      "Box(3,)\n",
      "[1. 1. 8.]\n",
      "[-1. -1. -8.]\n"
     ]
    }
   ],
   "source": [
    "env = gym.make('Pendulum-v0')\n",
    "print(env.action_space)\n",
    "print(env.observation_space)\n",
    "print(env.observation_space.high)\n",
    "print(env.observation_space.low)\n",
    "\n",
    "mid_dim = 1\n",
    "num_params = \\\n",
    "    env.observation_space.shape[0] * mid_dim + \\\n",
    "    mid_dim * env.action_space.shape[0]\n",
    "\n",
    "population_size = 100\n",
    "num_iterations = 10"
   ]
  },
  {
   "cell_type": "code",
   "execution_count": 12,
   "metadata": {},
   "outputs": [
    {
     "name": "stdout",
     "output_type": "stream",
     "text": [
      "Trial ended at 200 time steps\n"
     ]
    },
    {
     "data": {
      "text/plain": [
       "-931.9893688570431"
      ]
     },
     "execution_count": 12,
     "metadata": {},
     "output_type": "execute_result"
    }
   ],
   "source": [
    "random_run(render=False, trials=1)"
   ]
  },
  {
   "cell_type": "code",
   "execution_count": 13,
   "metadata": {},
   "outputs": [],
   "source": [
    "def run_trial(weights):\n",
    "    observation = env.reset()\n",
    "    totalreward = 0\n",
    "    while True:\n",
    "        \n",
    "        # transformation from optimization solution (rl agent) to action\n",
    "        tmp = numpy.dot(observation, weights[0])\n",
    "        action = numpy.dot(tmp, weights[1])\n",
    "\n",
    "        observation, reward, done, info = env.step(action)\n",
    "        totalreward += reward\n",
    "        if done:\n",
    "            break\n",
    "    return totalreward\n",
    "\n",
    "def params2weights(parameters):\n",
    "    assert len(parameters) == num_params\n",
    "    weights = [\n",
    "        numpy.zeros(shape=(env.observation_space.shape[0], mid_dim)),\n",
    "        numpy.zeros(shape=(mid_dim, env.action_space.shape[0]))\n",
    "    ]\n",
    "    index = 0\n",
    "    for i in xrange(env.observation_space.shape[0]):\n",
    "        for j in xrange(mid_dim):\n",
    "            weights[0][i, j] = parameters[index]\n",
    "            index += 1\n",
    "    for i in xrange(mid_dim):\n",
    "        for j in xrange(env.action_space.shape[0]):\n",
    "            weights[1][i, j] = parameters[index]\n",
    "            index += 1\n",
    "    return weights\n",
    "\n",
    "def objective_function(parameters):\n",
    "    assert len(parameters) == num_params\n",
    "    weights = params2weights(parameters)\n",
    "    return run_trial(weights)\n"
   ]
  },
  {
   "cell_type": "code",
   "execution_count": 14,
   "metadata": {},
   "outputs": [
    {
     "name": "stdout",
     "output_type": "stream",
     "text": [
      "[0.39595704 0.40460028 0.02740396 0.05730879]\n"
     ]
    },
    {
     "data": {
      "image/png": "[encoded data removed]",
      "text/plain": [
       "<Figure size 432x288 with 1 Axes>"
      ]
     },
     "metadata": {
      "needs_background": "light"
     },
     "output_type": "display_data"
    }
   ],
   "source": [
    "comp(options=['rand', 'pso', 'ga', 'dea'])"
   ]
  },
  {
   "cell_type": "markdown",
   "metadata": {},
   "source": [
    "## Mountain Car\n",
    "\n",
    "Two variable environment + Three-way discrete decision [ref](https://github.com/openai/gym/wiki/MountainCar-v0)\n",
    "\n",
    "\n",
    "![mountcart](mountcart.png)"
   ]
  },
  {
   "cell_type": "code",
   "execution_count": 15,
   "metadata": {},
   "outputs": [
    {
     "name": "stdout",
     "output_type": "stream",
     "text": [
      "\u001b[33mWARN: gym.spaces.Box autodetected dtype as <type 'numpy.float32'>. Please provide explicit dtype.\u001b[0m\n",
      "Discrete(3)\n",
      "Box(2,)\n",
      "[0.6  0.07]\n",
      "[-1.2  -0.07]\n"
     ]
    }
   ],
   "source": [
    "env = gym.make('MountainCar-v0')\n",
    "\n",
    "print(env.action_space)\n",
    "print(env.observation_space)\n",
    "print(env.observation_space.high)\n",
    "print(env.observation_space.low)\n",
    "\n",
    "observation_len = 2\n",
    "action_len = 3\n",
    "\n",
    "mid_dim = 1\n",
    "num_params = \\\n",
    "    observation_len * mid_dim + \\\n",
    "    mid_dim * action_len\n",
    "\n",
    "population_size = 50\n",
    "num_iterations = 50"
   ]
  },
  {
   "cell_type": "code",
   "execution_count": 16,
   "metadata": {},
   "outputs": [
    {
     "name": "stdout",
     "output_type": "stream",
     "text": [
      "Trial ended at 200 time steps\n"
     ]
    },
    {
     "data": {
      "text/plain": [
       "-200.0"
      ]
     },
     "execution_count": 16,
     "metadata": {},
     "output_type": "execute_result"
    }
   ],
   "source": [
    "random_run(render=False, trials=1)"
   ]
  },
  {
   "cell_type": "code",
   "execution_count": 17,
   "metadata": {},
   "outputs": [],
   "source": [
    "def run_trial(weights):\n",
    "    observation = env.reset()\n",
    "    totalreward = 0\n",
    "    while True:\n",
    "        \n",
    "        # transformation from optimization solution (rl agent) to action\n",
    "        tmp = numpy.dot(observation, weights[0])\n",
    "        tmp = list(numpy.dot(tmp, weights[1]))\n",
    "        action = tmp.index(max(tmp))\n",
    "\n",
    "        observation, reward, done, info = env.step(action)\n",
    "        totalreward += reward\n",
    "        if done:\n",
    "            break\n",
    "    return totalreward\n",
    "\n",
    "def params2weights(parameters):\n",
    "    assert len(parameters) == num_params\n",
    "    weights = [\n",
    "        numpy.zeros(shape=(observation_len, mid_dim)),\n",
    "        numpy.zeros(shape=(mid_dim, action_len))\n",
    "    ]\n",
    "    index = 0\n",
    "    for i in xrange(observation_len):\n",
    "        for j in xrange(mid_dim):\n",
    "            weights[0][i, j] = parameters[index]\n",
    "            index += 1\n",
    "    for i in xrange(mid_dim):\n",
    "        for j in xrange(action_len):\n",
    "            weights[1][i, j] = parameters[index]\n",
    "            index += 1\n",
    "    return weights\n",
    "\n",
    "def objective_function(parameters):\n",
    "    assert len(parameters) == num_params\n",
    "    weights = params2weights(parameters)\n",
    "    return run_trial(weights)\n"
   ]
  },
  {
   "cell_type": "code",
   "execution_count": 18,
   "metadata": {},
   "outputs": [
    {
     "name": "stdout",
     "output_type": "stream",
     "text": [
      "[0.         0.85080506 0.04283631 0.0450902  0.18169636]\n"
     ]
    },
    {
     "data": {
      "image/png": "[encoded data removed]",
      "text/plain": [
       "<Figure size 432x288 with 1 Axes>"
      ]
     },
     "metadata": {
      "needs_background": "light"
     },
     "output_type": "display_data"
    }
   ],
   "source": [
    "comp(options=['rand', 'pso', 'ga', 'dea'])"
   ]
  },
  {
   "cell_type": "markdown",
   "metadata": {},
   "source": [
    "## Bipedal Walker\n",
    "\n",
    "Twenty-three variable environment + Four variable decision [ref](https://github.com/openai/gym/wiki/BipedalWalker-v2)\n",
    "\n",
    "![bipedalwalker](bipedalwalker.png)"
   ]
  },
  {
   "cell_type": "code",
   "execution_count": 19,
   "metadata": {},
   "outputs": [
    {
     "name": "stdout",
     "output_type": "stream",
     "text": [
      "\u001b[33mWARN: gym.spaces.Box autodetected dtype as <type 'numpy.float32'>. Please provide explicit dtype.\u001b[0m\n",
      "\u001b[33mWARN: gym.spaces.Box autodetected dtype as <type 'numpy.float32'>. Please provide explicit dtype.\u001b[0m\n",
      "Box(4,)\n",
      "()\n",
      "Box(24,)\n",
      "[inf inf inf inf inf inf inf inf inf inf inf inf inf inf inf inf inf inf\n",
      " inf inf inf inf inf inf]\n",
      "[-inf -inf -inf -inf -inf -inf -inf -inf -inf -inf -inf -inf -inf -inf\n",
      " -inf -inf -inf -inf -inf -inf -inf -inf -inf -inf]\n"
     ]
    }
   ],
   "source": [
    "env = gym.make('BipedalWalker-v2')\n",
    "\n",
    "print(env.action_space)\n",
    "print()\n",
    "\n",
    "print(env.observation_space)\n",
    "print(env.observation_space.high)\n",
    "print(env.observation_space.low)\n",
    "\n",
    "population_size = 25\n",
    "num_iterations = 25\n",
    "\n",
    "observation_len = env.observation_space.shape[0]\n",
    "action_len = env.action_space.shape[0]\n",
    "\n",
    "mid_dim = 1\n",
    "num_params = \\\n",
    "    observation_len * mid_dim + \\\n",
    "    mid_dim * action_len"
   ]
  },
  {
   "cell_type": "code",
   "execution_count": 20,
   "metadata": {},
   "outputs": [
    {
     "name": "stdout",
     "output_type": "stream",
     "text": [
      "Trial ended at 1600 time steps\n"
     ]
    },
    {
     "data": {
      "text/plain": [
       "-75.1806774626248"
      ]
     },
     "execution_count": 20,
     "metadata": {},
     "output_type": "execute_result"
    }
   ],
   "source": [
    "random_run(render=False, trials=1)"
   ]
  },
  {
   "cell_type": "code",
   "execution_count": 21,
   "metadata": {},
   "outputs": [],
   "source": [
    "def run_trial(weights):\n",
    "    observation = env.reset()\n",
    "    totalreward = 0\n",
    "    while True:\n",
    "        \n",
    "        # transformation from optimization solution (rl agent) to action\n",
    "        tmp = numpy.dot(observation, weights[0])\n",
    "        action = numpy.dot(tmp, weights[1])\n",
    "\n",
    "        observation, reward, done, info = env.step(action)\n",
    "        totalreward += reward\n",
    "        if done:\n",
    "            break\n",
    "    return totalreward\n",
    "\n",
    "def params2weights(parameters):\n",
    "    assert len(parameters) == num_params\n",
    "    weights = [\n",
    "        numpy.zeros(shape=(observation_len, mid_dim)),\n",
    "        numpy.zeros(shape=(mid_dim, action_len))\n",
    "    ]\n",
    "    index = 0\n",
    "    for i in xrange(observation_len):\n",
    "        for j in xrange(mid_dim):\n",
    "            weights[0][i, j] = parameters[index]\n",
    "            index += 1\n",
    "    for i in xrange(mid_dim):\n",
    "        for j in xrange(action_len):\n",
    "            weights[1][i, j] = parameters[index]\n",
    "            index += 1\n",
    "    return weights\n",
    "\n",
    "def objective_function(parameters):\n",
    "    assert len(parameters) == num_params\n",
    "    weights = params2weights(parameters)\n",
    "    return run_trial(weights)"
   ]
  },
  {
   "cell_type": "code",
   "execution_count": 22,
   "metadata": {},
   "outputs": [
    {
     "name": "stdout",
     "output_type": "stream",
     "text": [
      "[ 7.64813759 -0.09608283  0.36533906  1.46782177  0.87567499 -4.8901808\n",
      " -4.24294674 -2.07145994 -0.96360067 -4.41395663 -1.34501235  4.01436642\n",
      " -4.55113467  0.05687891  0.91085837  3.33697276 -8.36720484  4.33091532\n",
      " -0.07229983  0.48008032  4.85111041  2.18861942 -2.55380317  4.92200286\n",
      " -4.87279807  2.28367931  1.21910685 -0.91114758]\n"
     ]
    },
    {
     "data": {
      "image/png": "[encoded data removed]",
      "text/plain": [
       "<Figure size 432x288 with 1 Axes>"
      ]
     },
     "metadata": {
      "needs_background": "light"
     },
     "output_type": "display_data"
    }
   ],
   "source": [
    "comp(options=['rand', 'pso', 'ga', 'dea'])"
   ]
  },
  {
   "cell_type": "code",
   "execution_count": null,
   "metadata": {},
   "outputs": [],
   "source": []
  }
 ],
 "metadata": {
  "kernelspec": {
   "display_name": "Python 2",
   "language": "python",
   "name": "python2"
  },
  "language_info": {
   "codemirror_mode": {
    "name": "ipython",
    "version": 2
   },
   "file_extension": ".py",
   "mimetype": "text/x-python",
   "name": "python",
   "nbconvert_exporter": "python",
   "pygments_lexer": "ipython2",
   "version": "2.7.15"
  }
 },
 "nbformat": 4,
 "nbformat_minor": 2
}
