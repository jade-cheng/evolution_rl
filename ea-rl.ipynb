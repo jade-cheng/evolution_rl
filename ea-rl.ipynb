{
 "cells": [
  {
   "cell_type": "code",
   "execution_count": 23,
   "metadata": {},
   "outputs": [],
   "source": [
    "import numpy\n",
    "import sys\n",
    "import os\n",
    "from cStringIO import StringIO\n",
    "import matplotlib.pyplot as plt\n",
    "\n",
    "import gym\n",
    "\n",
    "sys.path.append(os.path.abspath('./evolutionary-optimization/src'))\n",
    "import OptimizerFactory"
   ]
  },
  {
   "cell_type": "markdown",
   "metadata": {},
   "source": [
    "## Cart Pole"
   ]
  },
  {
   "cell_type": "code",
   "execution_count": 24,
   "metadata": {},
   "outputs": [],
   "source": [
    "env = gym.make('CartPole-v0')\n",
    "print(env.action_space)\n",
    "print(env.observation_space)\n",
    "print(env.observation_space.high)\n",
    "print(env.observation_space.low)\n",
    "\n",
    "num_params = len(env.observation_space.high)\n",
    "population_size = 5\n",
    "num_iterations = 3"
   ]
  },
  {
   "cell_type": "markdown",
   "metadata": {},
   "source": [
    "### Random policy"
   ]
  },
  {
   "cell_type": "code",
   "execution_count": 25,
   "metadata": {},
   "outputs": [],
   "source": [
    "def random_run(render=True, trials=20):\n",
    "    bestreward = -float('inf')\n",
    "    for i_trial in range(trials):\n",
    "        observation = env.reset()\n",
    "        totalreward = 0\n",
    "        for t in xrange(sys.maxint):\n",
    "\n",
    "            action = env.action_space.sample()\n",
    "            observation, reward, done, info = env.step(action)\n",
    "\n",
    "            if render:\n",
    "                env.render()\n",
    "\n",
    "            totalreward += reward\n",
    "            if done:\n",
    "                print(\"Trial ended at {} time steps\".format(t + 1))\n",
    "                break\n",
    "        if totalreward > bestreward:\n",
    "            bestreward = totalreward\n",
    "    return bestreward"
   ]
  },
  {
   "cell_type": "code",
   "execution_count": 4,
   "metadata": {},
   "outputs": [
    {
     "name": "stdout",
     "output_type": "stream",
     "text": [
      "Trial ended at 12 time steps\n"
     ]
    },
    {
     "data": {
      "text/plain": [
       "12.0"
      ]
     },
     "execution_count": 4,
     "metadata": {},
     "output_type": "execute_result"
    }
   ],
   "source": [
    "random_run(render=True, trials=1)"
   ]
  },
  {
   "cell_type": "code",
   "execution_count": 5,
   "metadata": {},
   "outputs": [
    {
     "name": "stdout",
     "output_type": "stream",
     "text": [
      "Trial ended at 12 time steps\n",
      "Trial ended at 13 time steps\n",
      "Trial ended at 16 time steps\n",
      "Trial ended at 38 time steps\n",
      "Trial ended at 28 time steps\n",
      "Trial ended at 12 time steps\n",
      "Trial ended at 27 time steps\n",
      "Trial ended at 18 time steps\n",
      "Trial ended at 16 time steps\n",
      "Trial ended at 12 time steps\n",
      "Trial ended at 19 time steps\n",
      "Trial ended at 15 time steps\n",
      "Trial ended at 21 time steps\n",
      "Trial ended at 60 time steps\n",
      "Trial ended at 15 time steps\n"
     ]
    },
    {
     "data": {
      "text/plain": [
       "60.0"
      ]
     },
     "execution_count": 5,
     "metadata": {},
     "output_type": "execute_result"
    }
   ],
   "source": [
    "random_run(render=False, trials=population_size * num_iterations)"
   ]
  },
  {
   "cell_type": "markdown",
   "metadata": {},
   "source": [
    "### EA policies"
   ]
  },
  {
   "cell_type": "code",
   "execution_count": 20,
   "metadata": {},
   "outputs": [],
   "source": [
    "def run_trial(parameters):\n",
    "    observation = env.reset()\n",
    "    totalreward = 0\n",
    "    while True:\n",
    "        \n",
    "        # transformation from optimization solution (rl agent) to action\n",
    "        action = 0 if numpy.matmul(parameters, observation) < 0 else 1\n",
    "\n",
    "        observation, reward, done, info = env.step(action)\n",
    "        totalreward += reward\n",
    "        if done:\n",
    "            break\n",
    "    return totalreward\n",
    "\n",
    "def objective_function(parameters):\n",
    "    assert len(parameters) == num_params\n",
    "    return run_trial(parameters)\n",
    "\n",
    "def ea(option):\n",
    "    assert option in ['pso', 'ga', 'dea']\n",
    "    optimizer = OptimizerFactory.create(\n",
    "        option=option,\n",
    "        param_count=num_params,\n",
    "    )\n",
    "    optimizer.optimizer.population_size = population_size\n",
    "    optimizer.optimizer.max_iterations = num_iterations\n",
    "    best_params = optimizer.maximize(objective_function)\n",
    "    best_fitness = objective_function(best_params)\n",
    "    return best_fitness\n",
    "\n",
    "def sp(option):\n",
    "    assert option in ['nm', 'bfgs', 'pow', 'bh', 'sdea']\n",
    "    optimizer = OptimizerFactory.create(\n",
    "        option=option,\n",
    "        param_count=num_params,\n",
    "    )\n",
    "    best_params = optimizer.maximize(objective_function)\n",
    "    best_fitness = objective_function(best_params)\n",
    "    return best_fitness\n"
   ]
  },
  {
   "cell_type": "code",
   "execution_count": 7,
   "metadata": {},
   "outputs": [
    {
     "name": "stdout",
     "output_type": "stream",
     "text": [
      "#\n",
      "# 2018-10-30 22:24:57.542373\n",
      "#\n",
      "# algorithm            = _PSOptimizer\n",
      "# timeout              = None\n",
      "# max_iterations       = 3\n",
      "# population_size      = 5\n",
      "# max_initial_velocity = 0.02\n",
      "# omega                = 0.9\n",
      "# phi_particle         = 0.3\n",
      "# phi_swarm            = 0.1\n",
      "#\n",
      "# PARTICLES FOR ITERATION 1\n",
      "# swarm_fitness           = 200.0\n",
      "# best_average_fitness    = 174.6\n",
      "# best_minimum_fitness    = 73.0\n",
      "# best_maximum_fitness    = 200.0\n",
      "# current_average_fitness = 174.6\n",
      "# current_minimum_fitness = 73.0\n",
      "# current_maximum_fitness = 200.0\n",
      "#\n",
      "# gen idv              fitness               param0               param1               param2               param3         best_fitness          best-param0          best-param1          best-param2          best-param3\n",
      "    1   0         200.00000000           0.10985232           0.55204659           0.53004498           0.96303904         200.00000000           0.10985232           0.55204659           0.53004498           0.96303904\n",
      "    1   1         200.00000000           0.13366563           0.02923536           0.58258194           0.75297474         200.00000000           0.13366563           0.02923536           0.58258194           0.75297474\n",
      "    1   2         200.00000000           0.55163179           0.66392628           0.82161093           0.58513316         200.00000000           0.55163179           0.66392628           0.82161093           0.58513316\n",
      "    1   3         200.00000000           0.39537934           0.04680185           0.85638099           0.89747718         200.00000000           0.39537934           0.04680185           0.85638099           0.89747718\n",
      "    1   4          73.00000000           0.57178198           0.85753113           0.08100896           0.90615775          73.00000000           0.57178198           0.85753113           0.08100896           0.90615775\n",
      "#\n",
      "# PARTICLES FOR ITERATION 2\n",
      "# swarm_fitness           = 200.0\n",
      "# best_average_fitness    = 175.6\n",
      "# best_minimum_fitness    = 78.0\n",
      "# best_maximum_fitness    = 200.0\n",
      "# current_average_fitness = 175.6\n",
      "# current_minimum_fitness = 78.0\n",
      "# current_maximum_fitness = 200.0\n",
      "#\n",
      "# gen idv              fitness               param0               param1               param2               param3         best_fitness          best-param0          best-param1          best-param2          best-param3\n",
      "    2   0         200.00000000           0.09216570           0.56641164           0.54067212           0.94509381         200.00000000           0.10985232           0.55204659           0.53004498           0.96303904\n",
      "    2   1         200.00000000           0.13875115           0.07282617           0.56261204           0.75133158         200.00000000           0.13366563           0.02923536           0.58258194           0.75297474\n",
      "    2   2         200.00000000           0.50378117           0.65675378           0.79960302           0.62087793         200.00000000           0.55163179           0.66392628           0.82161093           0.58513316\n",
      "    2   3         200.00000000           0.35737728           0.08164465           0.84898177           0.90818382         200.00000000           0.39537934           0.04680185           0.85638099           0.89747718\n",
      "    2   4          78.00000000           0.55287404           0.82964620           0.10575902           0.90515706          78.00000000           0.55287404           0.82964620           0.10575902           0.90515706\n",
      "#\n",
      "# PARTICLES FOR ITERATION 3\n",
      "# swarm_fitness           = 200.0\n",
      "# best_average_fitness    = 179.2\n",
      "# best_minimum_fitness    = 96.0\n",
      "# best_maximum_fitness    = 200.0\n",
      "# current_average_fitness = 179.2\n",
      "# current_minimum_fitness = 96.0\n",
      "# current_maximum_fitness = 200.0\n",
      "#\n",
      "# gen idv              fitness               param0               param1               param2               param3         best_fitness          best-param0          best-param1          best-param2          best-param3\n",
      "    3   0         200.00000000           0.08159509           0.57499707           0.54702356           0.93436865         200.00000000           0.10985232           0.55204659           0.53004498           0.96303904\n",
      "    3   1         200.00000000           0.14186291           0.10864062           0.54855603           0.75287114         200.00000000           0.13366563           0.02923536           0.58258194           0.75297474\n",
      "    3   2         200.00000000           0.43161775           0.64225427           0.75928481           0.67864736         200.00000000           0.55163179           0.66392628           0.82161093           0.58513316\n",
      "    3   3         200.00000000           0.30409299           0.15197067           0.81472893           0.92188354         200.00000000           0.39537934           0.04680185           0.85638099           0.89747718\n",
      "    3   4          96.00000000           0.52961705           0.80063984           0.13401003           0.90507169          96.00000000           0.52961705           0.80063984           0.13401003           0.90507169\n",
      "#\n",
      "# exit_condition       = ITERATIONS\n",
      "# iterations           = 3\n",
      "# execution_time       = 0:00:00.035259\n"
     ]
    },
    {
     "data": {
      "text/plain": [
       "200.0"
      ]
     },
     "execution_count": 7,
     "metadata": {},
     "output_type": "execute_result"
    }
   ],
   "source": [
    "ea('pso')"
   ]
  },
  {
   "cell_type": "markdown",
   "metadata": {},
   "source": [
    "### Comparison"
   ]
  },
  {
   "cell_type": "code",
   "execution_count": 26,
   "metadata": {},
   "outputs": [],
   "source": [
    "def comp(options=['rand', 'nm', 'bfgs', 'pow', 'bh', 'sdea', 'pso', 'ga', 'dea']):\n",
    "\n",
    "    # obsorb standard output, mystdout.getvalue()\n",
    "    old_stdout = sys.stdout\n",
    "    sys.stdout = mystdout = StringIO() \n",
    "    \n",
    "    to_plot = [[] for _ in options]\n",
    "    repeats = 3\n",
    "    \n",
    "    for i, option in enumerate(options):\n",
    "        for _ in range(repeats):\n",
    "            if option == 'rand':\n",
    "                to_plot[i].append(random_run(render=False))\n",
    "            elif option in ['nm', 'bfgs', 'pow', 'bh', 'sdea']:\n",
    "                to_plot[i].append(sp(option))\n",
    "            elif option in ['pso', 'ga', 'dea']:\n",
    "                to_plot[i].append(ea(option))\n",
    "            else:\n",
    "                assert False\n",
    "        \n",
    "    sys.stdout = old_stdout\n",
    "    \n",
    "    plt.boxplot(to_plot)\n",
    "    plt.ylabel('objective for maximization')\n",
    "    plt.xticks(range(1, len(options) + 1), options)"
   ]
  },
  {
   "cell_type": "code",
   "execution_count": 9,
   "metadata": {},
   "outputs": [
    {
     "name": "stderr",
     "output_type": "stream",
     "text": [
      "/Users/jade/Documents/Strong/side-projects/ea-rl/venv/lib/python2.7/site-packages/scipy/optimize/optimize.py:1013: RuntimeWarning: divide by zero encountered in double_scalars\n",
      "  rhok = 1.0 / (numpy.dot(yk, sk))\n",
      "/Users/jade/Documents/Strong/side-projects/ea-rl/venv/lib/python2.7/site-packages/scipy/optimize/_differentialevolution.py:603: RuntimeWarning: divide by zero encountered in double_scalars\n",
      "  convergence=self.tol / convergence) is True):\n"
     ]
    },
    {
     "data": {
      "image/png": "[encoded data removed]",
      "text/plain": [
       "<Figure size 432x288 with 1 Axes>"
      ]
     },
     "metadata": {
      "needs_background": "light"
     },
     "output_type": "display_data"
    }
   ],
   "source": [
    "comp()"
   ]
  },
  {
   "cell_type": "markdown",
   "metadata": {},
   "source": [
    "Note: Scipy methods, `nm`, `bfgs`, `pow`, `bh`, and `sdea`, are not bounded by the number of evaluations (15 in this example).  The rest of the comparison is fair, e.g. `rand` vs. EA-based methods `pso`, `ga`, and `dea`."
   ]
  },
  {
   "cell_type": "code",
   "execution_count": 27,
   "metadata": {},
   "outputs": [
    {
     "data": {
      "image/png": "[encoded data removed]",
      "text/plain": [
       "<Figure size 432x288 with 1 Axes>"
      ]
     },
     "metadata": {
      "needs_background": "light"
     },
     "output_type": "display_data"
    }
   ],
   "source": [
    "comp(['rand', 'pso', 'ga', 'dea'])"
   ]
  },
  {
   "cell_type": "markdown",
   "metadata": {},
   "source": [
    "## Pendulum"
   ]
  },
  {
   "cell_type": "code",
   "execution_count": 10,
   "metadata": {},
   "outputs": [
    {
     "name": "stdout",
     "output_type": "stream",
     "text": [
      "Box(1,)\n",
      "Box(3,)\n",
      "[1. 1. 8.]\n",
      "[-1. -1. -8.]\n"
     ]
    }
   ],
   "source": [
    "env = gym.make('Pendulum-v0')\n",
    "print(env.action_space)\n",
    "print(env.observation_space)\n",
    "print(env.observation_space.high)\n",
    "print(env.observation_space.low)\n",
    "\n",
    "mid_dim = 1\n",
    "num_params = \\\n",
    "    env.observation_space.shape[0] * mid_dim + \\\n",
    "    mid_dim * env.action_space.shape[0]\n",
    "\n",
    "population_size = 100\n",
    "num_iterations = 10"
   ]
  },
  {
   "cell_type": "code",
   "execution_count": 11,
   "metadata": {},
   "outputs": [
    {
     "name": "stdout",
     "output_type": "stream",
     "text": [
      "Trial ended at 200 time steps\n"
     ]
    },
    {
     "data": {
      "text/plain": [
       "-1463.6705638684066"
      ]
     },
     "execution_count": 11,
     "metadata": {},
     "output_type": "execute_result"
    }
   ],
   "source": [
    "random_run(render=True, trials=1)"
   ]
  },
  {
   "cell_type": "code",
   "execution_count": 12,
   "metadata": {},
   "outputs": [],
   "source": [
    "def run_trial(weights):\n",
    "    observation = env.reset()\n",
    "    totalreward = 0\n",
    "    while True:\n",
    "        \n",
    "        # transformation from optimization solution (rl agent) to action\n",
    "        tmp = numpy.dot(observation, weights[0])\n",
    "        action = numpy.dot(tmp, weights[1])\n",
    "\n",
    "        observation, reward, done, info = env.step(action)\n",
    "        totalreward += reward\n",
    "        if done:\n",
    "            break\n",
    "    return totalreward\n",
    "\n",
    "def params2weights(parameters):\n",
    "    assert len(parameters) == num_params\n",
    "    weights = [\n",
    "        numpy.zeros(shape=(env.observation_space.shape[0], mid_dim)),\n",
    "        numpy.zeros(shape=(mid_dim, env.action_space.shape[0]))\n",
    "    ]\n",
    "    index = 0\n",
    "    for i in xrange(env.observation_space.shape[0]):\n",
    "        for j in xrange(mid_dim):\n",
    "            weights[0][i, j] = parameters[index]\n",
    "            index += 1\n",
    "    for i in xrange(mid_dim):\n",
    "        for j in xrange(env.action_space.shape[0]):\n",
    "            weights[1][i, j] = parameters[index]\n",
    "            index += 1\n",
    "    return weights\n",
    "\n",
    "def objective_function(parameters):\n",
    "    assert len(parameters) == num_params\n",
    "    weights = params2weights(parameters)\n",
    "    return run_trial(weights)\n"
   ]
  },
  {
   "cell_type": "code",
   "execution_count": 14,
   "metadata": {},
   "outputs": [
    {
     "data": {
      "image/png": "[encoded data removed]",
      "text/plain": [
       "<Figure size 432x288 with 1 Axes>"
      ]
     },
     "metadata": {
      "needs_background": "light"
     },
     "output_type": "display_data"
    }
   ],
   "source": [
    "comp(options=['rand', 'pso', 'ga', 'dea'])"
   ]
  },
  {
   "cell_type": "markdown",
   "metadata": {},
   "source": [
    "## Mountain Car"
   ]
  },
  {
   "cell_type": "code",
   "execution_count": 15,
   "metadata": {},
   "outputs": [
    {
     "name": "stdout",
     "output_type": "stream",
     "text": [
      "\u001b[33mWARN: gym.spaces.Box autodetected dtype as <type 'numpy.float32'>. Please provide explicit dtype.\u001b[0m\n",
      "Discrete(3)\n",
      "Box(2,)\n",
      "[0.6  0.07]\n",
      "[-1.2  -0.07]\n"
     ]
    }
   ],
   "source": [
    "env = gym.make('MountainCar-v0')\n",
    "\n",
    "print(env.action_space)\n",
    "print(env.observation_space)\n",
    "print(env.observation_space.high)\n",
    "print(env.observation_space.low)\n",
    "\n",
    "observation_len = 2\n",
    "action_len = 3\n",
    "\n",
    "mid_dim = 1\n",
    "num_params = \\\n",
    "    observation_len * mid_dim + \\\n",
    "    mid_dim * action_len\n",
    "\n",
    "population_size = 50\n",
    "num_iterations = 50"
   ]
  },
  {
   "cell_type": "code",
   "execution_count": 16,
   "metadata": {},
   "outputs": [
    {
     "name": "stdout",
     "output_type": "stream",
     "text": [
      "Trial ended at 200 time steps\n"
     ]
    },
    {
     "data": {
      "text/plain": [
       "-200.0"
      ]
     },
     "execution_count": 16,
     "metadata": {},
     "output_type": "execute_result"
    }
   ],
   "source": [
    "random_run(render=True, trials=1)"
   ]
  },
  {
   "cell_type": "code",
   "execution_count": 17,
   "metadata": {},
   "outputs": [],
   "source": [
    "def run_trial(weights):\n",
    "    observation = env.reset()\n",
    "    totalreward = 0\n",
    "    while True:\n",
    "        \n",
    "        # transformation from optimization solution (rl agent) to action\n",
    "        tmp = numpy.dot(observation, weights[0])\n",
    "        tmp = list(numpy.dot(tmp, weights[1]))\n",
    "        action = tmp.index(max(tmp))\n",
    "\n",
    "        observation, reward, done, info = env.step(action)\n",
    "        totalreward += reward\n",
    "        if done:\n",
    "            break\n",
    "    return totalreward\n",
    "\n",
    "def params2weights(parameters):\n",
    "    assert len(parameters) == num_params\n",
    "    weights = [\n",
    "        numpy.zeros(shape=(observation_len, mid_dim)),\n",
    "        numpy.zeros(shape=(mid_dim, action_len))\n",
    "    ]\n",
    "    index = 0\n",
    "    for i in xrange(observation_len):\n",
    "        for j in xrange(mid_dim):\n",
    "            weights[0][i, j] = parameters[index]\n",
    "            index += 1\n",
    "    for i in xrange(mid_dim):\n",
    "        for j in xrange(action_len):\n",
    "            weights[1][i, j] = parameters[index]\n",
    "            index += 1\n",
    "    return weights\n",
    "\n",
    "def objective_function(parameters):\n",
    "    assert len(parameters) == num_params\n",
    "    weights = params2weights(parameters)\n",
    "    return run_trial(weights)\n"
   ]
  },
  {
   "cell_type": "code",
   "execution_count": 19,
   "metadata": {},
   "outputs": [
    {
     "data": {
      "image/png": "[encoded data removed]",
      "text/plain": [
       "<Figure size 432x288 with 1 Axes>"
      ]
     },
     "metadata": {
      "needs_background": "light"
     },
     "output_type": "display_data"
    }
   ],
   "source": [
    "comp(options=['rand', 'pso', 'ga', 'dea'])"
   ]
  },
  {
   "cell_type": "markdown",
   "metadata": {},
   "source": [
    "## Bipedal Walker"
   ]
  },
  {
   "cell_type": "code",
   "execution_count": 30,
   "metadata": {},
   "outputs": [],
   "source": [
    "env = gym.make('BipedalWalker-v2')\n",
    "\n",
    "print(env.action_space)\n",
    "print()\n",
    "\n",
    "print(env.observation_space)\n",
    "print(env.observation_space.high)\n",
    "print(env.observation_space.low)\n",
    "\n",
    "population_size = 25\n",
    "num_iterations = 25\n",
    "\n",
    "observation_len = env.observation_space.shape[0]\n",
    "action_len = env.action_space.shape[0]\n",
    "\n",
    "mid_dim = 1\n",
    "num_params = \\\n",
    "    observation_len * mid_dim + \\\n",
    "    mid_dim * action_len"
   ]
  },
  {
   "cell_type": "code",
   "execution_count": 29,
   "metadata": {},
   "outputs": [
    {
     "data": {
      "text/plain": [
       "-84.6431283157924"
      ]
     },
     "execution_count": 29,
     "metadata": {},
     "output_type": "execute_result"
    }
   ],
   "source": [
    "random_run(render=True, trials=1)"
   ]
  },
  {
   "cell_type": "code",
   "execution_count": 31,
   "metadata": {},
   "outputs": [],
   "source": [
    "def run_trial(weights):\n",
    "    observation = env.reset()\n",
    "    totalreward = 0\n",
    "    while True:\n",
    "        \n",
    "        # transformation from optimization solution (rl agent) to action\n",
    "        tmp = numpy.dot(observation, weights[0])\n",
    "        action = numpy.dot(tmp, weights[1])\n",
    "\n",
    "        observation, reward, done, info = env.step(action)\n",
    "        totalreward += reward\n",
    "        if done:\n",
    "            break\n",
    "    return totalreward\n",
    "\n",
    "def params2weights(parameters):\n",
    "    assert len(parameters) == num_params\n",
    "    weights = [\n",
    "        numpy.zeros(shape=(observation_len, mid_dim)),\n",
    "        numpy.zeros(shape=(mid_dim, action_len))\n",
    "    ]\n",
    "    index = 0\n",
    "    for i in xrange(observation_len):\n",
    "        for j in xrange(mid_dim):\n",
    "            weights[0][i, j] = parameters[index]\n",
    "            index += 1\n",
    "    for i in xrange(mid_dim):\n",
    "        for j in xrange(action_len):\n",
    "            weights[1][i, j] = parameters[index]\n",
    "            index += 1\n",
    "    return weights\n",
    "\n",
    "def objective_function(parameters):\n",
    "    assert len(parameters) == num_params\n",
    "    weights = params2weights(parameters)\n",
    "    return run_trial(weights)"
   ]
  },
  {
   "cell_type": "code",
   "execution_count": 32,
   "metadata": {},
   "outputs": [
    {
     "data": {
      "image/png": "[encoded data removed]",
      "text/plain": [
       "<Figure size 432x288 with 1 Axes>"
      ]
     },
     "metadata": {
      "needs_background": "light"
     },
     "output_type": "display_data"
    }
   ],
   "source": [
    "comp(options=['rand', 'pso', 'ga', 'dea'])"
   ]
  },
  {
   "cell_type": "code",
   "execution_count": null,
   "metadata": {},
   "outputs": [],
   "source": []
  }
 ],
 "metadata": {
  "kernelspec": {
   "display_name": "Python 2",
   "language": "python",
   "name": "python2"
  },
  "language_info": {
   "codemirror_mode": {
    "name": "ipython",
    "version": 2
   },
   "file_extension": ".py",
   "mimetype": "text/x-python",
   "name": "python",
   "nbconvert_exporter": "python",
   "pygments_lexer": "ipython2",
   "version": "2.7.15"
  }
 },
 "nbformat": 4,
 "nbformat_minor": 2
}
